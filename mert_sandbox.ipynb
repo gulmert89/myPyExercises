{
 "cells": [
  {
   "cell_type": "code",
   "execution_count": 1,
   "metadata": {
    "scrolled": false
   },
   "outputs": [
    {
     "name": "stdout",
     "output_type": "stream",
     "text": [
      "\n",
      "    Hafta başında 1000 dolarlık bitcoin aldığımızda günde ortalama %12 kazançla,\n",
      "    bir hafta sonunda 2210.68 dolar kazanırdık.\n",
      "    \n",
      "Dosyayı hangi isimle kaydetmek istersiniz? merty\n",
      "Dosya ismi: merty.py\n"
     ]
    }
   ],
   "source": [
    "def odev1():\n",
    "    ilk_deger = 1000\n",
    "    faiz = 0.12\n",
    "    f_deger = ilk_deger*((1+faiz)**7)    # faizli değer\n",
    "\n",
    "    print(f\"\"\"\n",
    "    Hafta başında {ilk_deger} dolarlık bitcoin aldığımızda günde ortalama %{int(faiz*100)} kazançla,\n",
    "    bir hafta sonunda {f_deger:.2f} dolar kazanırdık.\n",
    "    \"\"\")    # \"f-strings\" kullanıldı. (Python 3.6+)\n",
    "\n",
    "    dosya_adi = input(\"Dosyayı hangi isimle kaydetmek istersiniz? \")\n",
    "    print(\"Dosya ismi: \" + dosya_adi + \".py\")\n",
    "odev1()"
   ]
  },
  {
   "cell_type": "markdown",
   "metadata": {},
   "source": [
    "# Şimdi biraz class örnekler:"
   ]
  },
  {
   "cell_type": "markdown",
   "metadata": {},
   "source": [
    "## 1) Sololearn: \"Broken Calculator\""
   ]
  },
  {
   "cell_type": "code",
   "execution_count": 2,
   "metadata": {},
   "outputs": [
    {
     "name": "stdout",
     "output_type": "stream",
     "text": [
      "The hypothenus of the sides 5 and 12 is 13.0\n",
      "Their multiplication is 60\n",
      "The mean value: 8.5\n",
      "I don't have much math left on me ¯\\_(ツ)_/¯\n"
     ]
    }
   ],
   "source": [
    "class BrokenCalculator:\n",
    "    def __init__(self, s1, s2):\n",
    "        self.side1 = s1\n",
    "        self.side2 = s2\n",
    "\n",
    "    def HalfMath(self,operation):\n",
    "        if operation in (\"hypothenus\", \"hypo\"):\n",
    "            hypo_math=round((((self.side1)**2+(self.side2)**2)**0.5),2)\n",
    "            print(\"The hypothenus of the sides\", self.side1, \"and\", self.side2, \"is\",hypo_math) \n",
    "            \n",
    "        elif operation==\"mean\":\n",
    "            mean_math=round(((self.side1+self.side2)/2),2)\n",
    "            print(\"The mean value:\", mean_math)\n",
    "\n",
    "        elif operation in (\"x\",\"*\",\"times\",\"X\"):\n",
    "            print(\"Their multiplication is\",self.side1*self.side2)\n",
    "\n",
    "        else:\n",
    "            print(\"I don't have much math left on me ¯\\_(ツ)_/¯\")\n",
    "        \n",
    "answer = BrokenCalculator(5, 12)\n",
    "answer.HalfMath(\"hypothenus\")\n",
    "answer.HalfMath(\"times\")\n",
    "answer.HalfMath(\"mean\")\n",
    "answer.HalfMath(\"minus\")"
   ]
  },
  {
   "cell_type": "markdown",
   "metadata": {},
   "source": [
    "## 2) Hacker Rank"
   ]
  },
  {
   "cell_type": "markdown",
   "metadata": {},
   "source": [
    "### \"30 Days of Code - Day 4: Class vs. Instance\"\n",
    "#### Task\n",
    "Write a Person class with an instance variable, **age** , and a constructor that takes an integer, **initialAge**, as a parameter. The constructor must assign **initialAge** to **age** after confirming the argument passed as **initialAge** is not negative; if a negative argument is passed as **initialAge**, the constructor should set **age** to **0** and print _\"Age is not valid, setting age to 0.\"_ In addition, you must write the following instance methods:\n",
    "\n",
    "1. yearPasses() should increase the **age** instance variable by **1**.\n",
    "\n",
    "2. amIOld() should perform the following conditional actions:\n",
    "    * If **age<13**, print _\"You are young.\"_\n",
    "    * If **age≥13** and **age<18**, print _\"You are a teenager.\"_\n",
    "    * Otherwise, print _\"You are old.\"_\n",
    "    \n",
    "To help you learn by example and complete this challenge, much of the code is provided for you, but you'll be writing everything in the future. The code that creates each instance of your Person class is in the main method. Don't worry if you don't understand it all quite yet!\n",
    "\n",
    "**Note:** Do not remove or alter the stub code in the editor.\n",
    "\n",
    "[Link to the Challenge](https://www.hackerrank.com/challenges/30-class-vs-instance/problem)"
   ]
  },
  {
   "cell_type": "code",
   "execution_count": null,
   "metadata": {},
   "outputs": [
    {
     "name": "stdout",
     "output_type": "stream",
     "text": [
      "\n",
      "\n",
      "You are young.\n",
      "You are young.\n",
      "\n"
     ]
    }
   ],
   "source": [
    "class Person:\n",
    "    def __init__(self,initialAge):\n",
    "        # Add some more code to run some checks on initialAge\n",
    "        self.age = initialAge\n",
    "        if initialAge<0:\n",
    "            self.age = 0\n",
    "            print(\"Age is not valid, setting age to 0.\")\n",
    "        \n",
    "    def amIOld(self):\n",
    "        # Do some computations in here and print out the correct statement to the console\n",
    "        if self.age < 13:\n",
    "            print(\"You are young.\")\n",
    "        elif 13<= self.age < 18:\n",
    "            print(\"You are a teenager.\")\n",
    "        else:\n",
    "            print(\"You are old.\") \n",
    "        \n",
    "    def yearPasses(self):\n",
    "        # Increment the age of the person in here\n",
    "        self.age+=j\n",
    "        \n",
    "t = int(input())\n",
    "for i in range(0, t):\n",
    "    age = int(input())         \n",
    "    p = Person(age)  \n",
    "    p.amIOld()\n",
    "    for j in range(0, 3):\n",
    "        p.yearPasses()       \n",
    "    p.amIOld()\n",
    "    print(\"\")"
   ]
  },
  {
   "cell_type": "code",
   "execution_count": null,
   "metadata": {},
   "outputs": [],
   "source": []
  }
 ],
 "metadata": {
  "kernelspec": {
   "display_name": "Python 3",
   "language": "python",
   "name": "python3"
  },
  "language_info": {
   "codemirror_mode": {
    "name": "ipython",
    "version": 3
   },
   "file_extension": ".py",
   "mimetype": "text/x-python",
   "name": "python",
   "nbconvert_exporter": "python",
   "pygments_lexer": "ipython3",
   "version": "3.8.1"
  }
 },
 "nbformat": 4,
 "nbformat_minor": 4
}
